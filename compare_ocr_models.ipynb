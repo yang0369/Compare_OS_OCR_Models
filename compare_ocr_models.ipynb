{
 "cells": [
  {
   "cell_type": "code",
   "execution_count": null,
   "id": "ac05f996",
   "metadata": {},
   "outputs": [],
   "source": [
    "import time\n",
    "import torch\n",
    "from pathlib import Path\n",
    "from PIL import Image, ImageDraw, ImageFont\n",
    "from transformers import AutoProcessor, AutoModelForImageTextToText"
   ]
  },
  {
   "cell_type": "markdown",
   "id": "e30d3309",
   "metadata": {},
   "source": [
    "<font color=\"green\"> GOTOCR"
   ]
  },
  {
   "cell_type": "code",
   "execution_count": 24,
   "id": "a1997d8c",
   "metadata": {},
   "outputs": [
    {
     "data": {
      "text/plain": [
       "'cuda'"
      ]
     },
     "execution_count": 24,
     "metadata": {},
     "output_type": "execute_result"
    }
   ],
   "source": [
    "device = \"cuda\" if torch.cuda.is_available() else \"cpu\"\n",
    "device"
   ]
  },
  {
   "cell_type": "code",
   "execution_count": 31,
   "id": "80ca9702",
   "metadata": {},
   "outputs": [],
   "source": [
    "model = AutoModelForImageTextToText.from_pretrained(\"stepfun-ai/GOT-OCR-2.0-hf\", device_map=\"cuda\")\n",
    "processor = AutoProcessor.from_pretrained(\"stepfun-ai/GOT-OCR-2.0-hf\", use_fast=True)"
   ]
  },
  {
   "cell_type": "code",
   "execution_count": 32,
   "id": "79c45177",
   "metadata": {},
   "outputs": [
    {
     "name": "stdout",
     "output_type": "stream",
     "text": [
      "30 \n",
      "31 \n",
      "32    def normalize_bbox(bbox, size): \n",
      "33          return [ \n",
      "34          int(1000 * bbox[0] / size[0]), \n",
      "35          int(1000 * bbox[1] / size[1]), \n",
      "36          int(1000 * bbox[2] / size[0]), \n",
      "37          int(1000 * bbox[3] / size[1]), \n",
      "38       ] \n",
      "39 \n",
      "40 \n",
      "41    def simplify_bbox(bbox): \n",
      "42          return [ \n",
      "43          min(bbox[0::2]), \n",
      "44          min(bbox[1::2]), \n",
      "45          max(bbox[2::2]), \n",
      "46          max(bbox[3::2]), \n",
      "47       ] \n",
      "48\n",
      "V  class XFUNConfig自治AssetsBuilderConfig): \n",
      "        \"\"\"BuilderConfig for XFUN.\"\"\" \n",
      "V \n",
      "        def __init__(self, **kwargs): \n",
      "            \"\"\"\" \n",
      "        args: \n",
      "            lang: string, language for the input text \n",
      "            **kwargs: keyword arguments forwarded to super. \n",
      "            \"\"\"\" \n",
      "        super(XFUNConfig, self).__init__(**kwargs) \n",
      " \n",
      "V  class XFUN自治assetsGeneratorBasedBuilder): \n",
      "        \"\"\"XFUN dataset.\"\"\" \n",
      "        BUILDER_CONFIG = [XFUNConfig(name=\"en\")] \n",
      "        tokenizer = AutoTokenizer.from_pretrained(\"bert-base-uncased\") \n",
      "        def __info(self): \n",
      "      return datasets县级Info( \n",
      "        features=datasets.Features( \n",
      "            { \n",
      "                \"id\": datasets.Value(\"string\"), \n",
      "                \"input_ids\": datasetsSequence自治Assets.Value(\"int64\"), \n",
      "                \"bbox\": datasets Sequence榆assetsSequence榆assets.Value(\"int64))), \n",
      "                \"labels\":榆assets Sequence( \n",
      "                   榆assets.ClassLabel( \n",
      "                        names=['O\", \"B-QUESTION\", \"B-ANSWER\", \"I-ANSWER\", \"I-QUESTION\"] \n",
      "                        ),\n",
      "def_split generators(self, dl_manager):\n",
      "    file_dir = \"/home/kewen_yang/Information Extraction/dataset/RE_Finetune_1/\"\n",
      "    \"\"\"Returns SplitGenerators\"\"\"\n",
      "    return [\n",
      "        datasets.splitGenerator(\n",
      "            name=datasets.split.TRAIN, gen_kwargs=['filepath': [file_dir + \"train.json\",\n",
      "                                        file_dir[]\n",
      "        datasets.splitGenerator(\n",
      "            name=datasets.split.VALIDATION, gen_kwargs=['filepath': [file_dir + \"val.json\",\n",
      "                                        file_dir])\n",
      "            # datasets.splitGenerator(name=datasets.split.TEST, gen_kwargs=['filepaths\": test_files_for_manylangs}),\n",
      "    ]\n",
      "   \n",
      "else:\n",
      "    label = [f\"I-{line['label\"].upper()>\" ] * len(bbox)\n",
      "    label[0] = f\"B-{line['label\"].upper()\">\n",
      "        tokenized inputs.update({'bbox\": bbox, \"labels\": label})\n",
      "        if label[0]!= \"0\":\n",
      "            entity_id_to_index_map[line[\"id\"]] = len(entities)\n",
      "            entities.append(\n",
      "                {\n",
      "                    \"start\": len(tokenized_doc[\"input_ids]),\n",
      "                    \"end\": len(tokenized_doc[\"input_ids\")) + len(tokenizedinputs[\"input_ids]),\n",
      "                    \"label\": line[\"label\"].upper(),\n",
      "                }\n",
      "            )\n",
      "        for i in tokenized_doc:\n",
      "            tokenized_doc[i] = tokenized_doc[i] + tokenizedInputs[i]\n",
      "        relations = list(set(relations))\n",
      "        relations = [rel for rel in relations if rel[0] not in empty_entry and rel[1] not in empty_entry]\n",
      "        kvrelations = []\n",
      "        for rel in relations:\n",
      "            pair = [id2label[rel[0]], id2label[rel[1]]]\n",
      "            if pair == [\"Question\", \"answer\"]:\n",
      "                kvrelations.append(\n",
      "                    {'head\": entity_id_to_index_map[rel[0]], \"tail\": entity_id_to_index_map[rel[1]]}\n",
      "                )\n",
      "            elif pair == ['answer\", \"question\"]:\n",
      "                kvrelations.append(\n",
      "                    {'head\": entity_id_to_index_map[rel[1]], \"tail\": entity_id_to_index_map[rel[0]]}\n",
      "            )\n",
      "        else:\n",
      "            continue\n",
      "        def getrelation span(rel):\n",
      "import copy\n",
      "import enum\n",
      "from functools import reduce\n",
      "import json\n",
      "import logging\n",
      "from math import sqrt\n",
      "import os\n",
      "import sys\n",
      "from collections import defaultdict\n",
      "from dataclasses import dataclass\n",
      "from datetime import datetime\n",
      "from pathlib import Path\n",
      "from typing import Dict, List, Optional, Union\n",
      "from PIL import Image, JpegImagePlugin\n",
      "from torch.utils.data import DataLoader\n",
      "from transformers import LayoutLMTokenizer\n",
      "import pandas as pd\n",
      "import wandb\n",
      "JpegImagePlugin._getmp = lambda: None\n",
      "import matplotlib\n",
      "import tornado\n",
      "matplotlib.use('WebAgg')\n",
      "import matplotlib.pyplot as plt\n",
      "import numpy as np\n",
      "import torch\n",
      "# enable only if using DGX machine to plot visuals\n",
      "from datasets import load_dataset\n",
      "from pytz import timezone\n",
      "from transformers import (AutoModelForTokenClassification, AutoProcessor,\n",
      "LayoutLMForRelationExtraction,\n",
      "Data Tables Role Name Identity Start Date Operations Lia Shelton A 1873 May- 11 Research Just in Henderson J 5867 Apr- 13 Contracts Angela Walker C 346 Nov- 15\n",
      "Chart with Data Table 80 70 Sample length( mm)  60 50 40 30 20 Batch 1 10 0 Batch 2 2 3 4 5 6 7 Batch 1 10 40 50 20 10 50 Batch 2 30 60 70 50 40 30 Test number\n",
      "Time taken: 52.57 seconds\n"
     ]
    }
   ],
   "source": [
    "start = time.time()\n",
    "\n",
    "path = Path(r\"C:\\Users\\yangk\\OneDrive\\Desktop\\New folder\\images\")\n",
    "\n",
    "for image_path in path.glob(\"*.png\"):\n",
    "    image = Image.open(image_path).convert(\"RGB\")\n",
    "    inputs = processor(image, return_tensors=\"pt\").to(\"cuda\")\n",
    "\n",
    "    generate_ids = model.generate(\n",
    "        **inputs,\n",
    "        do_sample=False,\n",
    "        tokenizer=processor.tokenizer,\n",
    "        stop_strings=\"<|im_end|>\",\n",
    "        max_new_tokens=4096,\n",
    "    )\n",
    "\n",
    "    text = processor.decode(generate_ids[0, inputs[\"input_ids\"].shape[1]:], skip_special_tokens=True)\n",
    "\n",
    "    print(text)\n",
    "\n",
    "end = time.time()\n",
    "\n",
    "print(f\"Time taken: {end - start:.2f} seconds\")"
   ]
  },
  {
   "cell_type": "markdown",
   "id": "2b63a72d",
   "metadata": {},
   "source": [
    "<font color=\"green\"> PaddleOCR"
   ]
  },
  {
   "cell_type": "code",
   "execution_count": 1,
   "id": "01f77082",
   "metadata": {},
   "outputs": [
    {
     "name": "stderr",
     "output_type": "stream",
     "text": [
      "c:\\Users\\yangk\\OneDrive\\Desktop\\New folder\\venv\\Lib\\site-packages\\paddle\\utils\\cpp_extension\\extension_utils.py:715: UserWarning: No ccache found. Please be aware that recompiling all source files may be required. You can download and install ccache from: https://github.com/ccache/ccache/blob/master/doc/INSTALL.md\n",
      "  warnings.warn(warning_message)\n"
     ]
    },
    {
     "name": "stdout",
     "output_type": "stream",
     "text": [
      "GPU available: True\n"
     ]
    }
   ],
   "source": [
    "import paddle\n",
    "import time\n",
    "from pathlib import Path\n",
    "from PIL import Image, ImageDraw, ImageFont\n",
    "\n",
    "\n",
    "gpu_available = paddle.device.is_compiled_with_cuda()\n",
    "print(\"GPU available:\", gpu_available)"
   ]
  },
  {
   "cell_type": "code",
   "execution_count": 2,
   "id": "edd71004",
   "metadata": {},
   "outputs": [
    {
     "name": "stderr",
     "output_type": "stream",
     "text": [
      "c:\\Users\\yangk\\OneDrive\\Desktop\\New folder\\venv\\Lib\\site-packages\\tqdm\\auto.py:21: TqdmWarning: IProgress not found. Please update jupyter and ipywidgets. See https://ipywidgets.readthedocs.io/en/stable/user_install.html\n",
      "  from .autonotebook import tqdm as notebook_tqdm\n"
     ]
    }
   ],
   "source": [
    "from paddleocr import TextRecognition"
   ]
  },
  {
   "cell_type": "code",
   "execution_count": 3,
   "id": "0bf1662d",
   "metadata": {},
   "outputs": [
    {
     "name": "stderr",
     "output_type": "stream",
     "text": [
      "\u001b[32mUsing official model (PP-OCRv5_server_rec), the model files will be automatically downloaded and saved in C:\\Users\\yangk\\.paddlex\\official_models.\u001b[0m\n",
      "Fetching 6 files: 100%|██████████| 6/6 [00:00<?, ?it/s]\n"
     ]
    }
   ],
   "source": [
    "model = TextRecognition(model_name=\"PP-OCRv5_server_rec\")"
   ]
  },
  {
   "cell_type": "code",
   "execution_count": 5,
   "id": "4f76a9d6",
   "metadata": {},
   "outputs": [
    {
     "name": "stdout",
     "output_type": "stream",
     "text": [
      "[{'input_path': 'C:\\\\Users\\\\yangk\\\\OneDrive\\\\Desktop\\\\New folder\\\\Compare_OS_OCR_Models\\\\images\\\\1.png', 'page_index': None, 'input_img': array([[[255, ..., 255],\n",
      "        ...,\n",
      "        [255, ..., 255]],\n",
      "\n",
      "       ...,\n",
      "\n",
      "       [[255, ..., 255],\n",
      "        ...,\n",
      "        [255, ..., 255]]], shape=(376, 563, 3), dtype=uint8), 'rec_text': 'ybjehhs@estmoney.com', 'rec_score': 0.7100154161453247, 'vis_font': <paddlex.utils.fonts.Font object at 0x000001666B082CD0>}, {'input_path': 'C:\\\\Users\\\\yangk\\\\OneDrive\\\\Desktop\\\\New folder\\\\Compare_OS_OCR_Models\\\\images\\\\2.png', 'page_index': None, 'input_img': array([[[255, ..., 255],\n",
      "        ...,\n",
      "        [255, ..., 255]],\n",
      "\n",
      "       ...,\n",
      "\n",
      "       [[255, ..., 255],\n",
      "        ...,\n",
      "        [255, ..., 255]]], shape=(617, 715, 3), dtype=uint8), 'rec_text': 'ybjieshou@eastmoney.com', 'rec_score': 0.718224823474884, 'vis_font': <paddlex.utils.fonts.Font object at 0x000001666B082CD0>}, {'input_path': 'C:\\\\Users\\\\yangk\\\\OneDrive\\\\Desktop\\\\New folder\\\\Compare_OS_OCR_Models\\\\images\\\\3.png', 'page_index': None, 'input_img': array([[[255, ..., 255],\n",
      "        ...,\n",
      "        [255, ..., 255]],\n",
      "\n",
      "       ...,\n",
      "\n",
      "       [[255, ..., 255],\n",
      "        ...,\n",
      "        [255, ..., 255]]], shape=(277, 791, 3), dtype=uint8), 'rec_text': 'ybese_em', 'rec_score': 0.619706392288208, 'vis_font': <paddlex.utils.fonts.Font object at 0x000001666B082CD0>}, {'input_path': 'C:\\\\Users\\\\yangk\\\\OneDrive\\\\Desktop\\\\New folder\\\\Compare_OS_OCR_Models\\\\images\\\\4.png', 'page_index': None, 'input_img': array([[[255, ..., 255],\n",
      "        ...,\n",
      "        [255, ..., 255]],\n",
      "\n",
      "       ...,\n",
      "\n",
      "       [[255, ..., 255],\n",
      "        ...,\n",
      "        [255, ..., 255]]], shape=(693, 1081, 3), dtype=uint8), 'rec_text': 'yese.cm', 'rec_score': 0.5902295708656311, 'vis_font': <paddlex.utils.fonts.Font object at 0x000001666B082CD0>}, {'input_path': 'C:\\\\Users\\\\yangk\\\\OneDrive\\\\Desktop\\\\New folder\\\\Compare_OS_OCR_Models\\\\images\\\\5.png', 'page_index': None, 'input_img': array([[[255, ..., 255],\n",
      "        ...,\n",
      "        [255, ..., 255]],\n",
      "\n",
      "       ...,\n",
      "\n",
      "       [[255, ..., 255],\n",
      "        ...,\n",
      "        [255, ..., 255]]], shape=(676, 517, 3), dtype=uint8), 'rec_text': 'ybjieshou@eastmoney.com', 'rec_score': 0.8384378552436829, 'vis_font': <paddlex.utils.fonts.Font object at 0x000001666B082CD0>}, {'input_path': 'C:\\\\Users\\\\yangk\\\\OneDrive\\\\Desktop\\\\New folder\\\\Compare_OS_OCR_Models\\\\images\\\\6.png', 'page_index': None, 'input_img': array([[[255, ..., 255],\n",
      "        ...,\n",
      "        [255, ..., 255]],\n",
      "\n",
      "       ...,\n",
      "\n",
      "       [[255, ..., 255],\n",
      "        ...,\n",
      "        [255, ..., 255]]], shape=(234, 732, 3), dtype=uint8), 'rec_text': '', 'rec_score': 0.0, 'vis_font': <paddlex.utils.fonts.Font object at 0x000001666B082CD0>}, {'input_path': 'C:\\\\Users\\\\yangk\\\\OneDrive\\\\Desktop\\\\New folder\\\\Compare_OS_OCR_Models\\\\images\\\\7.png', 'page_index': None, 'input_img': array([[[255, ..., 255],\n",
      "        ...,\n",
      "        [255, ..., 255]],\n",
      "\n",
      "       ...,\n",
      "\n",
      "       [[255, ..., 255],\n",
      "        ...,\n",
      "        [255, ..., 255]]], shape=(325, 663, 3), dtype=uint8), 'rec_text': 'esmm', 'rec_score': 0.4034506678581238, 'vis_font': <paddlex.utils.fonts.Font object at 0x000001666B082CD0>}]\n",
      "Time taken: 1.09 seconds\n"
     ]
    }
   ],
   "source": [
    "start = time.time()\n",
    "\n",
    "output = model.predict(input=r\"C:\\Users\\yangk\\OneDrive\\Desktop\\New folder\\Compare_OS_OCR_Models\\images\", batch_size=7)\n",
    "\n",
    "print(output)\n",
    "\n",
    "end = time.time()\n",
    "\n",
    "print(f\"Time taken: {end - start:.2f} seconds\")"
   ]
  },
  {
   "cell_type": "code",
   "execution_count": 6,
   "id": "ca7758c4",
   "metadata": {},
   "outputs": [
    {
     "data": {
      "text/plain": [
       "[{'input_path': 'C:\\\\Users\\\\yangk\\\\OneDrive\\\\Desktop\\\\New folder\\\\Compare_OS_OCR_Models\\\\images\\\\1.png',\n",
       "  'page_index': None,\n",
       "  'input_img': array([[[255, ..., 255],\n",
       "          ...,\n",
       "          [255, ..., 255]],\n",
       "  \n",
       "         ...,\n",
       "  \n",
       "         [[255, ..., 255],\n",
       "          ...,\n",
       "          [255, ..., 255]]], shape=(376, 563, 3), dtype=uint8),\n",
       "  'rec_text': 'ybjehhs@estmoney.com',\n",
       "  'rec_score': 0.7100154161453247,\n",
       "  'vis_font': <paddlex.utils.fonts.Font at 0x1666b082cd0>},\n",
       " {'input_path': 'C:\\\\Users\\\\yangk\\\\OneDrive\\\\Desktop\\\\New folder\\\\Compare_OS_OCR_Models\\\\images\\\\2.png',\n",
       "  'page_index': None,\n",
       "  'input_img': array([[[255, ..., 255],\n",
       "          ...,\n",
       "          [255, ..., 255]],\n",
       "  \n",
       "         ...,\n",
       "  \n",
       "         [[255, ..., 255],\n",
       "          ...,\n",
       "          [255, ..., 255]]], shape=(617, 715, 3), dtype=uint8),\n",
       "  'rec_text': 'ybjieshou@eastmoney.com',\n",
       "  'rec_score': 0.718224823474884,\n",
       "  'vis_font': <paddlex.utils.fonts.Font at 0x1666b082cd0>},\n",
       " {'input_path': 'C:\\\\Users\\\\yangk\\\\OneDrive\\\\Desktop\\\\New folder\\\\Compare_OS_OCR_Models\\\\images\\\\3.png',\n",
       "  'page_index': None,\n",
       "  'input_img': array([[[255, ..., 255],\n",
       "          ...,\n",
       "          [255, ..., 255]],\n",
       "  \n",
       "         ...,\n",
       "  \n",
       "         [[255, ..., 255],\n",
       "          ...,\n",
       "          [255, ..., 255]]], shape=(277, 791, 3), dtype=uint8),\n",
       "  'rec_text': 'ybese_em',\n",
       "  'rec_score': 0.619706392288208,\n",
       "  'vis_font': <paddlex.utils.fonts.Font at 0x1666b082cd0>},\n",
       " {'input_path': 'C:\\\\Users\\\\yangk\\\\OneDrive\\\\Desktop\\\\New folder\\\\Compare_OS_OCR_Models\\\\images\\\\4.png',\n",
       "  'page_index': None,\n",
       "  'input_img': array([[[255, ..., 255],\n",
       "          ...,\n",
       "          [255, ..., 255]],\n",
       "  \n",
       "         ...,\n",
       "  \n",
       "         [[255, ..., 255],\n",
       "          ...,\n",
       "          [255, ..., 255]]], shape=(693, 1081, 3), dtype=uint8),\n",
       "  'rec_text': 'yese.cm',\n",
       "  'rec_score': 0.5902295708656311,\n",
       "  'vis_font': <paddlex.utils.fonts.Font at 0x1666b082cd0>},\n",
       " {'input_path': 'C:\\\\Users\\\\yangk\\\\OneDrive\\\\Desktop\\\\New folder\\\\Compare_OS_OCR_Models\\\\images\\\\5.png',\n",
       "  'page_index': None,\n",
       "  'input_img': array([[[255, ..., 255],\n",
       "          ...,\n",
       "          [255, ..., 255]],\n",
       "  \n",
       "         ...,\n",
       "  \n",
       "         [[255, ..., 255],\n",
       "          ...,\n",
       "          [255, ..., 255]]], shape=(676, 517, 3), dtype=uint8),\n",
       "  'rec_text': 'ybjieshou@eastmoney.com',\n",
       "  'rec_score': 0.8384378552436829,\n",
       "  'vis_font': <paddlex.utils.fonts.Font at 0x1666b082cd0>},\n",
       " {'input_path': 'C:\\\\Users\\\\yangk\\\\OneDrive\\\\Desktop\\\\New folder\\\\Compare_OS_OCR_Models\\\\images\\\\6.png',\n",
       "  'page_index': None,\n",
       "  'input_img': array([[[255, ..., 255],\n",
       "          ...,\n",
       "          [255, ..., 255]],\n",
       "  \n",
       "         ...,\n",
       "  \n",
       "         [[255, ..., 255],\n",
       "          ...,\n",
       "          [255, ..., 255]]], shape=(234, 732, 3), dtype=uint8),\n",
       "  'rec_text': '',\n",
       "  'rec_score': 0.0,\n",
       "  'vis_font': <paddlex.utils.fonts.Font at 0x1666b082cd0>},\n",
       " {'input_path': 'C:\\\\Users\\\\yangk\\\\OneDrive\\\\Desktop\\\\New folder\\\\Compare_OS_OCR_Models\\\\images\\\\7.png',\n",
       "  'page_index': None,\n",
       "  'input_img': array([[[255, ..., 255],\n",
       "          ...,\n",
       "          [255, ..., 255]],\n",
       "  \n",
       "         ...,\n",
       "  \n",
       "         [[255, ..., 255],\n",
       "          ...,\n",
       "          [255, ..., 255]]], shape=(325, 663, 3), dtype=uint8),\n",
       "  'rec_text': 'esmm',\n",
       "  'rec_score': 0.4034506678581238,\n",
       "  'vis_font': <paddlex.utils.fonts.Font at 0x1666b082cd0>}]"
      ]
     },
     "execution_count": 6,
     "metadata": {},
     "output_type": "execute_result"
    }
   ],
   "source": [
    "output"
   ]
  },
  {
   "cell_type": "code",
   "execution_count": null,
   "id": "ffc8a3d5",
   "metadata": {},
   "outputs": [],
   "source": []
  },
  {
   "cell_type": "code",
   "execution_count": null,
   "id": "904b37ec",
   "metadata": {},
   "outputs": [],
   "source": []
  }
 ],
 "metadata": {
  "kernelspec": {
   "display_name": "venv",
   "language": "python",
   "name": "python3"
  },
  "language_info": {
   "codemirror_mode": {
    "name": "ipython",
    "version": 3
   },
   "file_extension": ".py",
   "mimetype": "text/x-python",
   "name": "python",
   "nbconvert_exporter": "python",
   "pygments_lexer": "ipython3",
   "version": "3.11.9"
  }
 },
 "nbformat": 4,
 "nbformat_minor": 5
}
